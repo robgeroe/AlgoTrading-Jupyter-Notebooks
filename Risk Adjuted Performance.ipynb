{
 "cells": [
  {
   "cell_type": "markdown",
   "id": "d4fb9330-3162-4866-b615-a89b3f26816b",
   "metadata": {},
   "source": [
    "# Risk-Adjusted Performance Measurement"
   ]
  },
  {
   "cell_type": "markdown",
   "id": "987aaa4e-4c0a-40a3-88b3-e00c194c883a",
   "metadata": {},
   "source": [
    "#### Grab stock prices"
   ]
  },
  {
   "cell_type": "code",
   "execution_count": null,
   "id": "c2dbc9ee-85ff-475d-af28-d59d97585710",
   "metadata": {},
   "outputs": [],
   "source": [
    "import yfinance as yf\n",
    "tickers = ['GOOG', 'AAPL', 'MSFT', 'BTC-USD']\n",
    "stock_data = yf.download(tickers, period='2y').dropna(how='any')\n",
    "stock_data = stock_data\n",
    "display(stock_data)"
   ]
  },
  {
   "cell_type": "markdown",
   "id": "d9fa4628-044f-41c6-b9d8-b3d65d5b01c9",
   "metadata": {},
   "source": [
    "#### Check the adjusted close prices"
   ]
  },
  {
   "cell_type": "code",
   "execution_count": null,
   "id": "a97b244f-f942-4414-8092-0ed899ad9d64",
   "metadata": {},
   "outputs": [],
   "source": [
    "display(stock_data['Adj Close'])"
   ]
  },
  {
   "cell_type": "markdown",
   "id": "06619640-655e-4acb-9a36-dfd4ddaff018",
   "metadata": {},
   "source": [
    "#### Calculate the discrete performance of the stocks"
   ]
  },
  {
   "cell_type": "code",
   "execution_count": null,
   "id": "a040bebf-14af-42f2-8662-31456cc4a903",
   "metadata": {},
   "outputs": [],
   "source": [
    "display(stock_data['Adj Close'].pct_change())"
   ]
  },
  {
   "cell_type": "markdown",
   "id": "259f43c0-94ca-496f-b483-63cc9e384a22",
   "metadata": {},
   "source": [
    "#### Calculate the continuous performance of the stocks"
   ]
  },
  {
   "cell_type": "code",
   "execution_count": null,
   "id": "e3fc76ed-c79f-48c2-a114-7dd2fa88ca36",
   "metadata": {},
   "outputs": [],
   "source": [
    "import numpy as np\n",
    "stock_data_log_change = np.log(1 + stock_data['Adj Close'].pct_change()).dropna(how='any')\n",
    "stock_data_log_change"
   ]
  },
  {
   "cell_type": "markdown",
   "id": "6e43f00b-384e-40a1-81e6-bbd87bdec801",
   "metadata": {},
   "source": [
    "#### Calculate the daily average performance of the stock"
   ]
  },
  {
   "cell_type": "code",
   "execution_count": null,
   "id": "2a2ebeb5-6592-4467-bdb7-8aab18d6e803",
   "metadata": {},
   "outputs": [],
   "source": [
    "stock_data_log_change.mean() * 100"
   ]
  },
  {
   "cell_type": "markdown",
   "id": "5195019a-9b7d-4a41-b920-e4c8b7229dc0",
   "metadata": {},
   "source": [
    "#### Calculate the standard deviation of the stocks as risk measurement"
   ]
  },
  {
   "cell_type": "code",
   "execution_count": null,
   "id": "8d0189c7-b536-4233-8274-91d9ac43573d",
   "metadata": {},
   "outputs": [],
   "source": [
    "stock_data_log_change.std()"
   ]
  },
  {
   "cell_type": "markdown",
   "id": "dd2a9da9-3b08-4729-9a66-ccc1e3750e5a",
   "metadata": {},
   "source": [
    "#### Add risk free interest rate"
   ]
  },
  {
   "cell_type": "code",
   "execution_count": null,
   "id": "1d8af086-d448-49ab-acbe-cef8e5977b56",
   "metadata": {},
   "outputs": [],
   "source": [
    "Rf = 0.04 / 252\n",
    "Rf"
   ]
  },
  {
   "cell_type": "markdown",
   "id": "92612ce7-bf64-4385-a8b5-96e1bb6942d0",
   "metadata": {},
   "source": [
    "#### Calculate the Sharpe ratio for the stocks"
   ]
  },
  {
   "cell_type": "code",
   "execution_count": null,
   "id": "44fc417d-67eb-4cff-8b76-4edf59ecf811",
   "metadata": {},
   "outputs": [],
   "source": [
    "ret_ticker = stock_data_log_change.mean()\n",
    "std_ticker = stock_data_log_change.std()\n",
    "display((ret_ticker - Rf) / std_ticker)"
   ]
  },
  {
   "cell_type": "markdown",
   "id": "8787a810-a9db-4415-b884-ec313e6a98f0",
   "metadata": {},
   "source": [
    "#### Calculate the correlations of the stocks"
   ]
  },
  {
   "cell_type": "code",
   "execution_count": null,
   "id": "b888b877-efb2-4f8c-909a-3ffde7c623cc",
   "metadata": {},
   "outputs": [],
   "source": [
    "stock_data_log_change.corr()"
   ]
  },
  {
   "cell_type": "markdown",
   "id": "f2fdfba8-6e7a-4790-b1d5-92d6dda5d883",
   "metadata": {},
   "source": [
    "#### Correlation matrix heat map"
   ]
  },
  {
   "cell_type": "code",
   "execution_count": null,
   "id": "7ed717d6-c522-4c41-ac79-430ed41f6fd9",
   "metadata": {},
   "outputs": [],
   "source": [
    "import matplotlib.pyplot as plt\n",
    "fig, ax = plt.subplots()\n",
    "im = ax.imshow(stock_data_log_change.corr(), cmap='turbo')\n",
    "ax.set_xticks(np.arange(len(tickers)), labels=stock_data_log_change.columns.tolist())\n",
    "ax.set_yticks(np.arange(len(tickers)), labels=stock_data_log_change.columns.tolist())\n",
    "for i in range(len(tickers)):\n",
    "    for j in range(len(tickers)):\n",
    "        text = ax.text(j, i, round(stock_data_log_change.corr().iloc[i, j], 2),\n",
    "                       ha=\"center\", va=\"center\", color=\"w\")\n",
    "ax.set_title(\"Correlation matrix\")\n",
    "plt.show()"
   ]
  },
  {
   "cell_type": "markdown",
   "id": "587ff0c5-1f0f-4b78-818d-0256f5f15454",
   "metadata": {},
   "source": [
    "#### Add Benchmark (S&P500 index)"
   ]
  },
  {
   "cell_type": "code",
   "execution_count": null,
   "id": "999e02bb-7db7-49cf-a8d4-f1d7d0ec81dc",
   "metadata": {},
   "outputs": [],
   "source": [
    "benchmark_data = yf.download('^GSPC', period='2y')\n",
    "benchmark_log_change = np.log(1 + benchmark_data['Adj Close'].pct_change()).dropna(how='any')\n",
    "benchmark_log_change"
   ]
  },
  {
   "cell_type": "markdown",
   "id": "1d53172c-939d-4227-84e5-2b68f6b0cddc",
   "metadata": {},
   "source": [
    "#### Compare the daily performance"
   ]
  },
  {
   "cell_type": "code",
   "execution_count": null,
   "id": "27e08f27-4588-4439-ac57-10d92c3639f8",
   "metadata": {},
   "outputs": [],
   "source": [
    "stock_data_log_change.mean() / benchmark_log_change.mean()"
   ]
  },
  {
   "cell_type": "markdown",
   "id": "abd544a0-cebd-45b6-b9fe-8622e1550768",
   "metadata": {},
   "source": [
    "#### Compare the daily standard deviation"
   ]
  },
  {
   "cell_type": "code",
   "execution_count": null,
   "id": "8b0bec7c-61eb-40c5-8eb4-235eb61ded91",
   "metadata": {},
   "outputs": [],
   "source": [
    "stock_data_log_change.std() / benchmark_log_change.std()"
   ]
  },
  {
   "cell_type": "markdown",
   "id": "543dcc5c-5387-4b99-a369-14be54410101",
   "metadata": {},
   "source": [
    "#### Calculate the beta of the stocks"
   ]
  },
  {
   "cell_type": "code",
   "execution_count": null,
   "id": "2e87c9af-23f9-4ad6-a746-0c6b459c8b64",
   "metadata": {},
   "outputs": [],
   "source": [
    "stock_data_log_change['GSPC'] = benchmark_log_change\n",
    "beta = stock_data_log_change.cov()['GSPC']/benchmark_log_change.var()\n",
    "beta"
   ]
  },
  {
   "cell_type": "markdown",
   "id": "9aad914a-e38f-43bd-b2db-4126525df738",
   "metadata": {},
   "source": [
    "#### Calculat the Jensen's alpha"
   ]
  },
  {
   "cell_type": "code",
   "execution_count": null,
   "id": "1c83c6ad-16d1-4cd1-b99c-c72036492989",
   "metadata": {},
   "outputs": [],
   "source": [
    "stock_data_log_change.mean() - beta * benchmark_log_change.mean()"
   ]
  },
  {
   "cell_type": "markdown",
   "id": "b60bbe2c-5f38-4a5d-bfac-12cc6f29a3c3",
   "metadata": {},
   "source": [
    "#### Create a portfolio with 50% of Apple stocks and 50% of Bitcoin"
   ]
  },
  {
   "cell_type": "code",
   "execution_count": null,
   "id": "91676f97-ff36-43f8-876c-79362b257320",
   "metadata": {},
   "outputs": [],
   "source": [
    "stock_data_log_change['Ptf'] = (stock_data_log_change['AAPL'] + stock_data_log_change['BTC-USD']) / 2\n",
    "stock_data_log_change"
   ]
  },
  {
   "cell_type": "markdown",
   "id": "409ff0b7-37c3-44e5-945f-b3388ea7a6bf",
   "metadata": {},
   "source": [
    "#### Compare the beta of the new portfolio"
   ]
  },
  {
   "cell_type": "code",
   "execution_count": null,
   "id": "6a98e153-9a4b-492e-893a-b60696cc3476",
   "metadata": {},
   "outputs": [],
   "source": [
    "beta_2 = stock_data_log_change.cov()['GSPC'] / benchmark_log_change.var() \n",
    "beta_2"
   ]
  },
  {
   "cell_type": "markdown",
   "id": "a2c142bb-6857-4a32-8404-77dbce412290",
   "metadata": {},
   "source": [
    "#### Compare the Jensen's alpha of the new portfolio"
   ]
  },
  {
   "cell_type": "code",
   "execution_count": null,
   "id": "88d5f551-6808-4ed0-9bc1-3df6d560f476",
   "metadata": {},
   "outputs": [],
   "source": [
    "stock_data_log_change.mean() - beta_2 * benchmark_log_change.mean()"
   ]
  },
  {
   "cell_type": "code",
   "execution_count": null,
   "id": "46b0144a-0692-468b-949a-b45812c4b4e8",
   "metadata": {},
   "outputs": [],
   "source": []
  }
 ],
 "metadata": {
  "kernelspec": {
   "display_name": "Python 3 (ipykernel)",
   "language": "python",
   "name": "python3"
  },
  "language_info": {
   "codemirror_mode": {
    "name": "ipython",
    "version": 3
   },
   "file_extension": ".py",
   "mimetype": "text/x-python",
   "name": "python",
   "nbconvert_exporter": "python",
   "pygments_lexer": "ipython3",
   "version": "3.9.9"
  }
 },
 "nbformat": 4,
 "nbformat_minor": 5
}
